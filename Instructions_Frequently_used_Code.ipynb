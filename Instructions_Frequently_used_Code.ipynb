{
 "cells": [
  {
   "cell_type": "code",
   "execution_count": null,
   "metadata": {},
   "outputs": [],
   "source": [
    "# Imports needed for the user machine at FLASH (as we needed to install code locally as a user)\n",
    "home_dir = os.path.expanduser(\"~\")\n",
    "sys.path.append(home_dir+\".local/lib/python3.5/site-packages/\")\n",
    "sys.path.append(\"./lib\")\n",
    "\n",
    "\n",
    "# Modules\n",
    "import sys, os, math, h5py\n",
    "import numpy as np\n",
    "import matplotlib as plt\n",
    "import matplotlib.pyplot as pyplt\n",
    "import pylab as pl\n",
    "from imp import reload\n",
    "import DldFlashProcessor\n",
    "\n",
    "# fdor inline plotting\n",
    "%matplotlib inline"
   ]
  },
  {
   "cell_type": "markdown",
   "metadata": {},
   "source": [
    "## Handling of DldFlashProcessor Class"
   ]
  },
  {
   "cell_type": "markdown",
   "metadata": {},
   "source": [
    "The DldFlashProcessor Class gets the data (predefined in the Class itself. There is a lot more data in the original file stored in the DAQ!) of the given Run from the DAQ and stores it in the Folder /home/pg2user/copiedFiles/beamtime. "
   ]
  },
  {
   "cell_type": "code",
   "execution_count": null,
   "metadata": {},
   "outputs": [],
   "source": [
    "# Update DldFlashProcessor class and make instance\n",
    "reload(DldFlashProcessor)\n",
    "processor = DldFlashProcessor.DldFlashProcessor()"
   ]
  },
  {
   "cell_type": "code",
   "execution_count": null,
   "metadata": {},
   "outputs": [],
   "source": [
    "# Get a run from the DAQ and store it in /home/pg2user/copiedFiles/beamtime/fl1user2/\n",
    "processor.readRun(186440)"
   ]
  },
  {
   "cell_type": "code",
   "execution_count": null,
   "metadata": {},
   "outputs": [],
   "source": [
    "# Alternatively if the file has already been stored locally use the following class method:\n",
    "FileName = '/home/pg2user/copiedFiles/beamtime/fl1user2/FLASH1_USER2_stream_2_run18467_file37_20170827T103301.1.h5'\n",
    "processor.readHdfFile(FileName)"
   ]
  },
  {
   "cell_type": "code",
   "execution_count": null,
   "metadata": {},
   "outputs": [],
   "source": [
    "# We can now add some appropriate binning along the following axes:\n",
    "\n",
    "processor.addBinning('posX', 500, 1000, 2)\n",
    "processor.addBinning('posY', 500, 1000, 2)\n",
    "processor.addBinning('dldDetectorId', -1, 2, 1)\n",
    "# useful for normalization\n",
    "processor.addBinning('dldTime', 637.0, 649.0, 0.5)\n",
    "\n",
    "# other axes are 'dldMicrobunchId' , 'bam' , 'delayStage'\n",
    "\n",
    "# Get a multidimensional array containing the binned data\n",
    "cuts = processorprojection.computeBinnedData()"
   ]
  },
  {
   "cell_type": "code",
   "execution_count": null,
   "metadata": {},
   "outputs": [],
   "source": [
    "# Store the data in the cuts struct as individual hdf5file that can be used with ImageJ\n",
    "\n",
    "processor.save2hdf5(cuts,'goodFilename')"
   ]
  },
  {
   "cell_type": "markdown",
   "metadata": {},
   "source": [
    "### Import hdf5 file into ImageJ and convert to Tiff"
   ]
  },
  {
   "cell_type": "markdown",
   "metadata": {},
   "source": [
    "After the last step the stored hdf5 file can be opened in ImageJ under File->Import\n",
    "When the file has been loaded you can again in the main window use File->SaveAs to convert the imported data to whatever format that is needed"
   ]
  },
  {
   "cell_type": "markdown",
   "metadata": {},
   "source": [
    "## Make a Norm Image "
   ]
  },
  {
   "cell_type": "code",
   "execution_count": null,
   "metadata": {},
   "outputs": [],
   "source": [
    "# We did a norm image for all measurements\n",
    "\n",
    "processor.readRun(18440)\n",
    "processor.addBinning('posX', 500, 1000, 2)\n",
    "processor.addBinning('posY', 500, 1000, 2)\n",
    "processor.addBinning('dldDetectorId', -1, 2, 1)\n",
    "norm = processor.computeBinnedData()\n",
    "norm = np.nan_to_num(norm)\n",
    "\n",
    "norm[norm<10]=1 # 10 or smaller seems to be outside of detector\n",
    "norm[:,:,0][norm[:,:,0] >= 10]/=norm[:,:,0][norm[:,:,0] >= 10].mean()\n",
    "norm[:,:,1][norm[:,:,1] >= 10]/=norm[:,:,1][norm[:,:,1] >= 10].mean()\n",
    "norm[norm<0.05]=0.1"
   ]
  },
  {
   "cell_type": "markdown",
   "metadata": {},
   "source": [
    "## Quick Plot (Simon)"
   ]
  },
  {
   "cell_type": "code",
   "execution_count": null,
   "metadata": {},
   "outputs": [],
   "source": [
    "reload(DldFlashProcessor)\n",
    "processor = DldFlashProcessor.DldFlashProcessor()\n",
    "\n",
    "runNumber = 18465\n",
    "timeFrom = 636\n",
    "timeTo = 642\n",
    "timeStep = .5\n",
    "\n",
    "delayFrom = -80\n",
    "delayTo = -40\n",
    "delayStep = 1.2 # with 0.5, you have lot of stripes, with 2 no stripes but everything smeared out... :-(\n",
    "\n",
    "result, result1, diff = processor.fastpumpProbePlotCheck(runNumber, timeFrom, timeTo, timeStep, delayFrom, delayTo, delayStep)"
   ]
  },
  {
   "cell_type": "markdown",
   "metadata": {},
   "source": [
    "## Plotting Images "
   ]
  },
  {
   "cell_type": "code",
   "execution_count": null,
   "metadata": {},
   "outputs": [],
   "source": [
    "processor.readRun(18421)\n",
    "processor.addBinning('dldTime', 635, 650.25,.25)\n",
    "processor.addBinning('posX', 500, 1000, 2)\n",
    "processor.addBinning('posY', 500, 1000, 2)\n",
    "processor.addBinning('dldDetectorId', -1, 2, 1)\n",
    "cuts2 = processor.computeBinnedData()\n",
    "cuts2 = np.nan_to_num(cuts2)"
   ]
  },
  {
   "cell_type": "code",
   "execution_count": null,
   "metadata": {},
   "outputs": [],
   "source": [
    "times = np.arange(635, 650,1)\n",
    "pl.figure(figsize=(17,24))\n",
    "for i in range(15):\n",
    "    pl.subplot2grid((5,3),(i//3,i%3))\n",
    "    pl.title('dldTime of '+str('{:06.2f}'.format(times[i]))+' ns',fontsize = 16)\n",
    "    tempim=cuts2[4*i:4*i+4,:,:,0].sum(axis=0).transpose()/norm[:,:,0].transpose()\n",
    "    tempim+=cuts2[4*i:4*i+4,:,:,1].sum(axis=0).transpose()/norm[:,:,1].transpose()\n",
    "    pl.imshow(tempim,cmap = 'inferno', clim=(0,tempim.max()*.3),aspect = 'auto')\n",
    "    pl.colorbar()"
   ]
  }
 ],
 "metadata": {
  "kernelspec": {
   "display_name": "Python 2",
   "language": "python",
   "name": "python2"
  },
  "language_info": {
   "codemirror_mode": {
    "name": "ipython",
    "version": 2
   },
   "file_extension": ".py",
   "mimetype": "text/x-python",
   "name": "python",
   "nbconvert_exporter": "python",
   "pygments_lexer": "ipython2",
   "version": "2.7.12"
  }
 },
 "nbformat": 4,
 "nbformat_minor": 1
}
